{
 "cells": [
  {
   "cell_type": "markdown",
   "source": [
    "# Bloc Note Jupyter\r\n",
    "\r\n",
    "\r\n",
    "Cette page est un [jupyter notebook](https://jupyter.org/), vous pouvez télécharger ce fichier avec son extension `.ipynb` en cliquant sur le bouton en haut à droite afin de l'éditer sur votre iPad en local avec l'application [Carnets](https://holzschu.github.io/Carnets_Jupyter/) ou encore en ligne avec [Basthon](https://notebook.basthon.fr/).\r\n",
    "\r\n",
    "---"
   ],
   "metadata": {
    "slideshow": {
     "slide_type": "slide"
    }
   }
  },
  {
   "cell_type": "markdown",
   "source": [
    "## Édition et exécution d'une cellule de code"
   ],
   "metadata": {
    "slideshow": {
     "slide_type": "slide"
    }
   }
  },
  {
   "cell_type": "markdown",
   "source": [
    "Un notebook jupyter consiste en **cellules** individuelles pouvant contenir du **code** *Python* et d'autres langages de programmation, du **texte** (avec formatage *Markdown*, <em>HTML</em> et $\\LaTeX{}$) ou des **graphiques**.\r\n",
    "\r\n",
    "\r\n",
    "<img src=\"https://ericecmorlaix.github.io/img/JupyterNoteBook.png\" alt=\"./images/JupyterNoteBook.png\" title=\"Description du contenu d'un Jupyter NoteBook\" width=\"50%\">\r\n",
    "\r\n",
    "Commençons par les cellules de type Code.\r\n",
    "\r\n",
    "**1)** Placez le curseur dans la 1ère cellule **In[ ]:** ci-dessous puis frapper la touche **`<enter>`**. Que se passe-t-il ? Rien d'autre que l'insertion d'un saut de ligne... C'est normal, car dans une cellule de type \"Code\" (c'est-à-dire préfixée par **In[ ]:**) on est par défaut en mode **édition de code** Python !\r\n",
    "\r\n",
    "\r\n",
    "Pour **exécuter le code** Python d'une cellule, il faut en effet frapper **`<Maj+Entrée>`** (ou cliquer sur le bouton <button class='fa fa-step-forward icon-step-forward btn btn-xs btn-default'></button>, ou encore utiliser le menu **`Cell>Run and Select Below...`**). Essayez !"
   ],
   "metadata": {
    "slideshow": {
     "slide_type": "subslide"
    }
   }
  },
  {
   "cell_type": "code",
   "execution_count": null,
   "source": [
    "15 + 25"
   ],
   "outputs": [],
   "metadata": {
    "slideshow": {
     "slide_type": "subslide"
    }
   }
  },
  {
   "cell_type": "code",
   "execution_count": null,
   "source": [
    "'Hello tout le monde !'"
   ],
   "outputs": [],
   "metadata": {
    "slideshow": {
     "slide_type": "fragment"
    }
   }
  },
  {
   "cell_type": "markdown",
   "source": [
    "Une ligne **Out[ ]:** devrait être apparue en dessous de la 1ère expression, affichant le résultat de celle-ci ! Le curseur est alors automatiquement passé dans la cellule d'en-dessous que vous pouvez exécuter à son tour."
   ],
   "metadata": {
    "slideshow": {
     "slide_type": "fragment"
    }
   }
  },
  {
   "cell_type": "markdown",
   "source": [
    "**2)** Exécutez maintenant le code de la cellule ci-dessous."
   ],
   "metadata": {
    "slideshow": {
     "slide_type": "subslide"
    }
   }
  },
  {
   "cell_type": "code",
   "execution_count": null,
   "source": [
    "a, b = 6, 10      # affectation simultanée de 2 variables\r\n",
    "print(f'La somme de ces 2 nombres vaut : {a + b}')"
   ],
   "outputs": [],
   "metadata": {
    "slideshow": {
     "slide_type": "-"
    }
   }
  },
  {
   "cell_type": "markdown",
   "source": [
    "> Remarquez que l'exécution du code ci-dessus n'a retourné aucune valeur. Il n'y a pas de prompt `Out[ ]`. C'est le fait de la fonction `print()` qui produit un affichage..."
   ],
   "metadata": {
    "slideshow": {
     "slide_type": "fragment"
    }
   }
  },
  {
   "cell_type": "markdown",
   "source": [
    "**3)** Peut-on **modifier le code** d'une cellule puis le **ré-exécuter** ? Bien sûr !  \n",
    "Expérimentez cela dans la cellule ci-dessus en modifiant la valeur des variables a et b, puis frappez à nouveau **`<Maj+Entrée>`**"
   ],
   "metadata": {
    "slideshow": {
     "slide_type": "fragment"
    }
   }
  },
  {
   "cell_type": "markdown",
   "source": [
    "## Création et édition de cellules de texte"
   ],
   "metadata": {
    "slideshow": {
     "slide_type": "slide"
    }
   }
  },
  {
   "cell_type": "markdown",
   "source": [
    "Il existe 2 types de cellules de texte, selon le choix effectué à l'aide du menu déroulant de la barre d'outils ou avec **`Cell>Cell Type>...`** :\n",
    "- **Raw NBConvert** (texte) : cellules de texte sans aucun formatage, directement éditables sans devoir _double-cliquer_ dedans ;\n",
    "- **Markdown** : cellules dans lesquelles le texte est soumis à un formatage selon la syntaxe Markdown ; les éventuelles balises HTML et le code LaTeX sont également interprétés..."
   ],
   "metadata": {
    "slideshow": {
     "slide_type": "subslide"
    }
   }
  },
  {
   "cell_type": "markdown",
   "source": [
    "Pour éditer une cellule il faut appuyer sur la touche **`<Entrée>`** lorsque la cellule est sélectionnée ou simplement **`Double-Cliquer`** dessus. Essayez avec n'importe quelle cellule de ce document elles sont toutes écrites en code Mardown, HTML et/ou LaTeX..."
   ],
   "metadata": {
    "slideshow": {
     "slide_type": "subslide"
    }
   }
  },
  {
   "cell_type": "markdown",
   "source": [
    "<a rel=\"license\" href=\"http://creativecommons.org/licenses/by-sa/4.0/\"><img alt=\"Licence Creative Commons\" style=\"border-width:0\" src=\"https://i.creativecommons.org/l/by-sa/4.0/88x31.png\" /></a><br />Ce document est mis à disposition selon les termes de la <a rel=\"license\" href=\"http://creativecommons.org/licenses/by-sa/4.0/\">Licence Creative Commons Attribution -  Partage dans les Mêmes Conditions 4.0 International</a>."
   ],
   "metadata": {
    "slideshow": {
     "slide_type": "-"
    }
   }
  },
  {
   "cell_type": "markdown",
   "source": [
    "Pour toute question, suggestion ou commentaire : <a href=\"mailto:eric.madec@ecmorlaix.fr\">eric.madec@ecmorlaix.fr</a>\n",
    "\n"
   ],
   "metadata": {
    "slideshow": {
     "slide_type": "-"
    }
   }
  }
 ],
 "metadata": {
  "celltoolbar": "Aucun(e)",
  "hide_input": false,
  "kernelspec": {
   "display_name": "Python 3",
   "language": "python",
   "name": "python3"
  },
  "language_info": {
   "codemirror_mode": {
    "name": "ipython",
    "version": 3
   },
   "file_extension": ".py",
   "mimetype": "text/x-python",
   "name": "python",
   "nbconvert_exporter": "python",
   "pygments_lexer": "ipython3",
   "version": "3.8.5"
  },
  "toc": {
   "base_numbering": 1,
   "nav_menu": {},
   "number_sections": true,
   "sideBar": true,
   "skip_h1_title": false,
   "title_cell": "Table of Contents",
   "title_sidebar": "Contents",
   "toc_cell": false,
   "toc_position": {},
   "toc_section_display": true,
   "toc_window_display": false
  },
  "varInspector": {
   "cols": {
    "lenName": 16,
    "lenType": 16,
    "lenVar": 40
   },
   "kernels_config": {
    "python": {
     "delete_cmd_postfix": "",
     "delete_cmd_prefix": "del ",
     "library": "var_list.py",
     "varRefreshCmd": "print(var_dic_list())"
    },
    "r": {
     "delete_cmd_postfix": ") ",
     "delete_cmd_prefix": "rm(",
     "library": "var_list.r",
     "varRefreshCmd": "cat(var_dic_list()) "
    }
   },
   "types_to_exclude": [
    "module",
    "function",
    "builtin_function_or_method",
    "instance",
    "_Feature"
   ],
   "window_display": false
  }
 },
 "nbformat": 4,
 "nbformat_minor": 1
}