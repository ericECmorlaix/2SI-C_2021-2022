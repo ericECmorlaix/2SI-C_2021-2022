{
 "cells": [
  {
   "cell_type": "markdown",
   "source": [
    "# Fiche de renseignements pour l'enseignement de découverte des Sciences de l'Ingénieur"
   ],
   "metadata": {}
  },
  {
   "cell_type": "markdown",
   "source": [
    "## Identification:\r\n",
    "- Nom : ...\r\n",
    "- Prenom : ...\r\n",
    "- Classe : ...\r\n",
    "\r\n",
    "## Ce que je faisais en 2020-2021 ? Quoi ? Où ?\r\n",
    "\r\n",
    "...\r\n",
    "\r\n",
    "## Quel est mon projet d'orientation ? Dans quel domaine ? Vers quel métier ?\r\n",
    "\r\n",
    "..."
   ],
   "metadata": {}
  },
  {
   "cell_type": "markdown",
   "source": [
    "## Pourquoi j'ai choisi de suivre l'enseignement des Sciences de l'ingénieur en seconde ?\r\n",
    "\r\n",
    "...\r\n",
    "\r\n",
    "## Ce que j'espère y faire ?\r\n",
    "\r\n",
    "...\r\n",
    "\r\n"
   ],
   "metadata": {}
  },
  {
   "cell_type": "markdown",
   "source": [
    "## Les systèmes que j'aimerai étudier ?\r\n",
    "\r\n",
    "- [Nom du système](coller entre ses paranthèses l'adresse d'un site web présentant ce système) :\r\n",
    "\r\n",
    "![image du système](coller entre ses paranthèses l'URL d'une image de ce système disponible sur le web)\r\n",
    "\r\n",
    "\r\n",
    "- [Nom du système](coller entre ses paranthèses l'adresse d'un site web présentant ce système) :\r\n",
    "\r\n",
    "![image du système](coller entre ses paranthèses l'URL d'une image de ce système disponible sur le web)\r\n"
   ],
   "metadata": {}
  },
  {
   "cell_type": "markdown",
   "source": [
    "## Après avoir regardé la <a target=\"blank\" href=\"https://youtu.be/y7yeb1OB1f4\">vidéo suivante</a>, je répond ci-après à la question pourquoi faut-il former des ingénieurs en France ?"
   ],
   "metadata": {}
  },
  {
   "cell_type": "code",
   "execution_count": 2,
   "source": [
    "from IPython.display import HTML\r\n",
    "HTML('''<figure>\r\n",
    "<iframe width=\"560\" height=\"315\" src=\"https://www.youtube-nocookie.com/embed/y7yeb1OB1f4\" title=\"YouTube video player\" frameborder=\"0\" allow=\"accelerometer; autoplay; clipboard-write; encrypted-media; gyroscope; picture-in-picture\" allowfullscreen></iframe>\r\n",
    "<figcaption><a href=\"https://youtu.be/y7yeb1OB1f4\">Les Sciences de l'Ingénieur - www.upsti.fr</a></figcaption>    \r\n",
    "</figure>''')"
   ],
   "outputs": [
    {
     "output_type": "execute_result",
     "data": {
      "text/html": [
       "<figure>\n",
       "<iframe width=\"560\" height=\"315\" src=\"https://www.youtube-nocookie.com/embed/y7yeb1OB1f4\" title=\"YouTube video player\" frameborder=\"0\" allow=\"accelerometer; autoplay; clipboard-write; encrypted-media; gyroscope; picture-in-picture\" allowfullscreen></iframe>\n",
       "<figcaption><a href=\"https://youtu.be/y7yeb1OB1f4\">Les Sciences de l'Ingénieur - www.upsti.fr</a></figcaption>    \n",
       "</figure>"
      ],
      "text/plain": [
       "<IPython.core.display.HTML object>"
      ]
     },
     "metadata": {},
     "execution_count": 2
    }
   ],
   "metadata": {}
  },
  {
   "cell_type": "markdown",
   "source": [
    "Selon moi, ..."
   ],
   "metadata": {}
  }
 ],
 "metadata": {
  "orig_nbformat": 4,
  "language_info": {
   "name": "python",
   "version": "3.9.1",
   "mimetype": "text/x-python",
   "codemirror_mode": {
    "name": "ipython",
    "version": 3
   },
   "pygments_lexer": "ipython3",
   "nbconvert_exporter": "python",
   "file_extension": ".py"
  },
  "kernelspec": {
   "name": "python3",
   "display_name": "Python 3.9.1 64-bit"
  },
  "interpreter": {
   "hash": "993719309b7497d4ea980752fffbdfc5c91491f5d8efe44ee08128fdc39f9023"
  }
 },
 "nbformat": 4,
 "nbformat_minor": 2
}